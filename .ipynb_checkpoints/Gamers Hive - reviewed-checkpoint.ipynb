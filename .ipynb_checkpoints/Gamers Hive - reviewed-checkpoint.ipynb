{
 "cells": [
  {
   "cell_type": "code",
   "execution_count": 129,
   "id": "ecb09bc2",
   "metadata": {},
   "outputs": [],
   "source": [
    "import pandas as pd\n",
    "import re\n",
    "import matplotlib.pyplot as plt\n",
    "import warnings \n",
    "warnings.filterwarnings('ignore')\n",
    "\n",
    "import numpy as np"
   ]
  },
  {
   "cell_type": "code",
   "execution_count": 130,
   "id": "19cd1b2e-1eb0-43f2-b8f3-e91cfac08356",
   "metadata": {},
   "outputs": [],
   "source": [
    "content =[]\n",
    "with open('Hive.txt' , 'r') as file:\n",
    "          content = file.readlines()"
   ]
  },
  {
   "cell_type": "code",
   "execution_count": 131,
   "id": "55bdcf7b-5b57-4518-b4a2-550c55bc824e",
   "metadata": {},
   "outputs": [
    {
     "name": "stdout",
     "output_type": "stream",
     "text": [
      "0. : [08/01/2018, 11:34:34] Gamerz Hive 💫 🎮: ‎Messages and calls are end-to-end encrypted. No one outside of this chat, not even WhatsApp, can read or listen to them.\n",
      "\n",
      "1. : [08/01/2018, 11:34:34] Pato: ‎Pato created this group\n",
      "\n",
      "2. : [08/01/2018, 11:34:34] Gamerz Hive 💫 🎮: ‎You were added\n",
      "\n",
      "3. : [18/01/2018, 15:30:34] Oyaro: 👀👀\n",
      "\n",
      "4. : [18/01/2018, 22:33:36] Pato: Sam1 has swallowed 8 goals\n",
      "\n",
      "5. : [18/01/2018, 22:34:01] Oweka: Oh my 😅\n",
      "\n",
      "6. : [18/01/2018, 22:34:24] Danny: Who dat\n",
      "\n",
      "7. : [18/01/2018, 22:34:34] Danny: Pin that nigga\n",
      "\n",
      "8. : [18/01/2018, 22:35:17] Pato: Sam guy called Robin\n",
      "\n",
      "9. : [18/01/2018, 22:35:42] Pato: I cudnt take a pic nigga pressed advanced asap\n",
      "\n",
      "10. : [18/01/2018, 22:35:53] Danny: Hehe ..\n",
      "\n",
      "11. : [18/01/2018, 22:36:19] Danny: Who washed him\n",
      "\n",
      "12. : [18/01/2018, 22:36:39] Pato: @256784083434\n",
      "\n",
      "13. : [18/01/2018, 22:36:41] Oweka: How why when. Did he score\n",
      "\n",
      "14. : [18/01/2018, 22:37:17] Pato: Hahahahaha. Ur lucky u never played @256784083434\n",
      "\n",
      "15. : ‎[18/01/2018, 22:58:42] Kema:  ‎audio omitted\n",
      "\n",
      "16. : [18/01/2018, 22:59:04] Kema: Graduation offering\n",
      "\n",
      "17. : [18/01/2018, 22:59:33] Danny: @256757803385 \n",
      "\n",
      "18. : Are u sober\n",
      "\n",
      "19. : [18/01/2018, 22:59:47] Kema: Ya y\n",
      "\n"
     ]
    }
   ],
   "source": [
    "for index, value in enumerate(content[:20]):\n",
    "    print(f'{index}. : {value}')"
   ]
  },
  {
   "cell_type": "code",
   "execution_count": 132,
   "id": "7ef86a77-dac2-49fd-a217-ccc81e75ec11",
   "metadata": {},
   "outputs": [],
   "source": [
    "def extract_dates(row):\n",
    "    row = row.strip()\n",
    "    if len(row) >= 22:\n",
    "        # check that the line fullfils all these conditions:\n",
    "        # 1. Starts with [ and ends with ]\n",
    "        # 2. The content inside brackets should be a date and time\n",
    "        # so the first and last character should be a number\n",
    "        if all([row[0] == '[', row[21] == ']', row[1].isnumeric(), row[-2].isnumeric()]):\n",
    "            return row[1:21]\n",
    "        else:\n",
    "            return np.nan"
   ]
  },
  {
   "cell_type": "code",
   "execution_count": 133,
   "id": "93dbb639-ec22-4f96-8ddd-36613c3336be",
   "metadata": {},
   "outputs": [],
   "source": [
    "datetimes = [extract_dates(i) for i in content]"
   ]
  },
  {
   "cell_type": "code",
   "execution_count": 134,
   "id": "2155b912-bc97-4b1b-a3d4-1ab02af13402",
   "metadata": {},
   "outputs": [],
   "source": [
    "datetimes = pd.Series(datetimes)"
   ]
  },
  {
   "cell_type": "markdown",
   "id": "13379f7d-d591-43a9-9c37-1e52ceccacc1",
   "metadata": {},
   "source": [
    "Check if there is any non valid register in dates"
   ]
  },
  {
   "cell_type": "code",
   "execution_count": 135,
   "id": "1609aa2f-d504-4d90-908e-abc44a465bd4",
   "metadata": {},
   "outputs": [],
   "source": [
    "for row in datetimes.dropna():\n",
    "    if not row[1].isnumeric():\n",
    "        print(row)"
   ]
  },
  {
   "cell_type": "code",
   "execution_count": 136,
   "id": "810880fc-65a9-4420-af43-10dec19c4119",
   "metadata": {},
   "outputs": [],
   "source": [
    "datetimes = pd.to_datetime(dates.dropna())"
   ]
  },
  {
   "cell_type": "code",
   "execution_count": 137,
   "id": "36b15eb5-6a44-4b1d-8d77-cbf37562e595",
   "metadata": {},
   "outputs": [
    {
     "data": {
      "text/plain": [
       "24485   2019-03-31 11:10:42\n",
       "92802   2021-10-19 10:58:17\n",
       "79330   2020-12-28 15:48:15\n",
       "14156   2018-04-08 09:35:17\n",
       "25780   2019-04-25 20:09:37\n",
       "14464   2018-09-08 21:12:23\n",
       "88576   2021-09-09 09:35:59\n",
       "39322   2019-09-23 18:39:41\n",
       "66479   2020-08-06 12:45:48\n",
       "72646   2020-08-18 09:32:40\n",
       "dtype: datetime64[ns]"
      ]
     },
     "execution_count": 137,
     "metadata": {},
     "output_type": "execute_result"
    }
   ],
   "source": [
    "datetimes.sample(10)"
   ]
  },
  {
   "cell_type": "markdown",
   "id": "f85e757a-afba-428d-a591-823194d87353",
   "metadata": {
    "tags": []
   },
   "source": [
    "# define regex pattern for chat line\n",
    "pattern = r'^\\[(\\d{2}\\/\\d{2}\\/\\d{4}), (\\d{2}:\\d{2}:\\d{2})\\] (\\S+): (.*)$'\n",
    "\n",
    "# create empty dataframe\n",
    "df = pd.DataFrame(columns=[\"date\", \"time\", \"user\", \"message\"])\n",
    "\n",
    "# read file line by line\n",
    "with open(\"Hive.txt\", encoding='utf-8') as f:\n",
    "    for line in f:\n",
    "        # match regex pattern with line\n",
    "        match = re.match(pattern, line)\n",
    "        if match: \n",
    "            # extract groups from match\n",
    "            groups = match.groups()\n",
    "            # add row to dataframe\n",
    "            df = df.append({\"date\": groups[0], \"time\": groups[1], \"user\": groups[2], \"message\": groups[3]}, ignore_index=True)\n",
    "\n",
    "# print dataframe\n",
    "df.head()"
   ]
  },
  {
   "cell_type": "code",
   "execution_count": null,
   "id": "8affd370",
   "metadata": {},
   "outputs": [],
   "source": [
    "df.shape"
   ]
  },
  {
   "cell_type": "code",
   "execution_count": 4,
   "id": "d525519b",
   "metadata": {},
   "outputs": [
    {
     "name": "stdout",
     "output_type": "stream",
     "text": [
      "<class 'pandas.core.frame.DataFrame'>\n",
      "RangeIndex: 49247 entries, 0 to 49246\n",
      "Data columns (total 4 columns):\n",
      " #   Column   Non-Null Count  Dtype \n",
      "---  ------   --------------  ----- \n",
      " 0   date     49247 non-null  object\n",
      " 1   time     49247 non-null  object\n",
      " 2   user     49247 non-null  object\n",
      " 3   message  49247 non-null  object\n",
      "dtypes: object(4)\n",
      "memory usage: 1.5+ MB\n"
     ]
    }
   ],
   "source": [
    "df.info()"
   ]
  },
  {
   "cell_type": "code",
   "execution_count": 5,
   "id": "86004217",
   "metadata": {},
   "outputs": [
    {
     "data": {
      "text/html": [
       "<div>\n",
       "<style scoped>\n",
       "    .dataframe tbody tr th:only-of-type {\n",
       "        vertical-align: middle;\n",
       "    }\n",
       "\n",
       "    .dataframe tbody tr th {\n",
       "        vertical-align: top;\n",
       "    }\n",
       "\n",
       "    .dataframe thead th {\n",
       "        text-align: right;\n",
       "    }\n",
       "</style>\n",
       "<table border=\"1\" class=\"dataframe\">\n",
       "  <thead>\n",
       "    <tr style=\"text-align: right;\">\n",
       "      <th></th>\n",
       "      <th>date</th>\n",
       "      <th>time</th>\n",
       "      <th>user</th>\n",
       "      <th>message</th>\n",
       "    </tr>\n",
       "  </thead>\n",
       "  <tbody>\n",
       "    <tr>\n",
       "      <th>count</th>\n",
       "      <td>49247</td>\n",
       "      <td>49247</td>\n",
       "      <td>49247</td>\n",
       "      <td>49247</td>\n",
       "    </tr>\n",
       "    <tr>\n",
       "      <th>unique</th>\n",
       "      <td>1701</td>\n",
       "      <td>34097</td>\n",
       "      <td>13</td>\n",
       "      <td>41246</td>\n",
       "    </tr>\n",
       "    <tr>\n",
       "      <th>top</th>\n",
       "      <td>23/09/2019</td>\n",
       "      <td>21:07:06</td>\n",
       "      <td>Bryo</td>\n",
       "      <td>🤣🤣🤣🤣</td>\n",
       "    </tr>\n",
       "    <tr>\n",
       "      <th>freq</th>\n",
       "      <td>305</td>\n",
       "      <td>7</td>\n",
       "      <td>14285</td>\n",
       "      <td>801</td>\n",
       "    </tr>\n",
       "  </tbody>\n",
       "</table>\n",
       "</div>"
      ],
      "text/plain": [
       "              date      time   user message\n",
       "count        49247     49247  49247   49247\n",
       "unique        1701     34097     13   41246\n",
       "top     23/09/2019  21:07:06   Bryo    🤣🤣🤣🤣\n",
       "freq           305         7  14285     801"
      ]
     },
     "execution_count": 5,
     "metadata": {},
     "output_type": "execute_result"
    }
   ],
   "source": [
    "df.describe()"
   ]
  },
  {
   "cell_type": "code",
   "execution_count": 6,
   "id": "e05b0582",
   "metadata": {},
   "outputs": [],
   "source": [
    "blanks = []\n",
    "for i,dt,t,u,msg in df.itertuples():\n",
    "    # index, date, time,user and message\n",
    "    if type(msg) == str:\n",
    "        if msg.isspace():\n",
    "            blanks.append(i)"
   ]
  },
  {
   "cell_type": "code",
   "execution_count": 7,
   "id": "d61c047e",
   "metadata": {},
   "outputs": [
    {
     "data": {
      "text/plain": [
       "[]"
      ]
     },
     "execution_count": 7,
     "metadata": {},
     "output_type": "execute_result"
    }
   ],
   "source": [
    "blanks"
   ]
  },
  {
   "cell_type": "code",
   "execution_count": 8,
   "id": "82c88a5b",
   "metadata": {},
   "outputs": [],
   "source": [
    "# convert date column to datetime data type\n",
    "df['date'] = pd.to_datetime(df['date'], format='%d/%m/%Y')\n",
    "\n",
    "# extract year and month\n",
    "df['year'] = df['date'].dt.year\n",
    "df['month'] = df['date'].dt.month"
   ]
  },
  {
   "cell_type": "code",
   "execution_count": 9,
   "id": "9297f8b6",
   "metadata": {},
   "outputs": [
    {
     "data": {
      "text/plain": [
       "date       datetime64[ns]\n",
       "time               object\n",
       "user               object\n",
       "message            object\n",
       "year                int64\n",
       "month               int64\n",
       "dtype: object"
      ]
     },
     "execution_count": 9,
     "metadata": {},
     "output_type": "execute_result"
    }
   ],
   "source": [
    "df.dtypes"
   ]
  },
  {
   "cell_type": "code",
   "execution_count": 10,
   "id": "461c46ca",
   "metadata": {},
   "outputs": [],
   "source": [
    "# Remove any unwanted characters from the message column\n",
    "df['message'] = df['message'].str.replace(' +', ' ', regex=True)\n",
    "df['message'] = df['message'].str.strip()"
   ]
  },
  {
   "cell_type": "code",
   "execution_count": 11,
   "id": "5f0c85ca",
   "metadata": {},
   "outputs": [],
   "source": [
    "# Filter out any system messages\n",
    "df = df[~df['user'].str.contains(' - ')]"
   ]
  },
  {
   "cell_type": "code",
   "execution_count": 12,
   "id": "56858514",
   "metadata": {},
   "outputs": [],
   "source": [
    "# Handle missing values\n",
    "df.dropna(subset=['message'], inplace=True)"
   ]
  },
  {
   "cell_type": "markdown",
   "id": "8ba1028e",
   "metadata": {},
   "source": [
    "# Replacing Un-named values in the user column"
   ]
  },
  {
   "cell_type": "code",
   "execution_count": 13,
   "id": "afac59db",
   "metadata": {},
   "outputs": [],
   "source": [
    "# df['user'] = df['user'].replace({'User1': 'John', 'User2': 'Jane'})\n"
   ]
  },
  {
   "cell_type": "code",
   "execution_count": 14,
   "id": "d1002de6",
   "metadata": {
    "scrolled": true
   },
   "outputs": [
    {
     "name": "stderr",
     "output_type": "stream",
     "text": [
      "[nltk_data] Downloading package punkt to\n",
      "[nltk_data]     C:\\Users\\danie\\AppData\\Roaming\\nltk_data...\n",
      "[nltk_data]   Package punkt is already up-to-date!\n"
     ]
    },
    {
     "name": "stdout",
     "output_type": "stream",
     "text": [
      "[('u', 6035), ('.', 2989), ('man', 2075), ('🤣🤣🤣🤣', 2051), ('🤣🤣🤣', 1997), ('😂😂', 1090), ('😂😂😂', 1011), ('team', 767), ('🤣🤣🤣🤣🤣', 760), ('😂😂😂😂', 758), ('arsenal', 702), ('game', 634), ('time', 605), ('their', 588), ('t', 584), ('play', 566), ('money', 558), ('season', 541), ('hive', 522), ('win', 499), ('united', 481), ('players', 479), ('🤣🤣🤣.', 476), ('league', 424), ('utd', 416), ('first', 415), ('shit', 403), ('😂', 383), ('playing', 380), ('naye', 375), ('messi', 361), ('games', 358), ('hard', 354), ('chelsea', 345), ('goals', 343), ('assured', 343), ('fans', 339), ('true', 334), ('goal', 322), ('😂😂😂😂😂', 312), ('same', 309), ('talking', 304), (\"doesn't\", 295), ('people', 293), ('player', 293), ('🤣🤣🤣🤣🤣🤣', 292), ('city', 290), ('world', 286), ('ronaldo', 283), ('🤭🤭🤭', 281), ('knw', 276), ('fento', 270), ('beat', 268), ('club', 265), ('over', 264), ('hope', 262), ('?', 259), ('gwe', 258), ('around', 252), ('dnt', 248), ('won', 248), ('teams', 248), ('ask', 243), ('boys', 241), ('today', 239), ('sebo', 238), ('sir', 237), ('coming', 236), ('liverpool', 236), ('oba', 235), ('wit', 225), ('leave', 225), ('ka', 225), ('day', 222), ('since', 221), ('football', 221), ('top', 214), ('actually', 213), ('owaye', 213), ('stop', 212), ('3', 206), ('cr7', 200), ('coach', 198), ('ball', 198), ('kati', 197), ('happy', 195), ('put', 193), ('dats', 192), ('open', 190), ('wanted', 189), ('bring', 188), ('used', 187), ('pay', 187), ('cup', 185), ('point', 184), ('because', 184), ('stats', 183), ('fifa', 182), ('seen', 182), ('thing', 181), ('again', 179), ('barca', 179), ('message', 179), ('doing', 178), ('cheap', 175), ('nga', 174), ('real', 171), ('nothing', 170), ('useless', 170), ('siliwo', 169), ('two', 168), ('ya', 166), ('least', 166), ('tym', 163), ('before', 163), ('someone', 162), ('@256705743093', 161), ('end', 161), ('madrid', 160), ('de', 159), ('watch', 159), ('y', 158), ('remember', 156), ('most', 156), ('winning', 156), ('english', 155), (\"he's\", 154), ('something', 154), ('getting', 152), ('long', 151), ('bro', 151), ('okia', 151), ('thats', 150), ('talk', 150), ('tournament', 149), ('wen', 149), ('done', 148), ('nigga', 147), ('show', 147), ('\\u200ethis', 147), ('deleted.', 147), ('score', 145), ('rubbish', 145), ('lost', 145), ('😅😅😅', 143), ('saw', 143), ('bad', 141), ('😎😎😎', 141), ('pep', 141), ('away', 140), ('5', 139), ('🤣🤣', 139), ('use', 139), ('goat', 139), ('cuz', 138), ('free', 138), ('puta', 138), ('boss', 137), ('abt', 137), ('birthday', 137), ('maguire', 137), ('scored', 135), ('lol', 135), ('problem', 135), ('buy', 135), ('making', 134), ('squad', 134), ('😂😂😂😂😂😂', 133), ('happened', 132), ('gonna', 132), ('home', 131), ('ba', 131), ('half', 130), ('fuck', 130), ('trying', 130), ('bet', 129), ('cnt', 128), ('work', 128), ('believe', 127), ('hia', 127), ('change', 126), ('years', 126), ('whose', 125), ('dem', 124), ('may', 124), ('europa', 124), ('ever', 123), ('fan', 123), ('old', 123), ('strong', 123), ('another', 122), ('week', 122), ('nze', 122), ('trophy', 121), ('send', 121), (\"you're\", 121), ('🤣🤣🤣🤣.', 121), ('group', 120), ('easy', 120), ('guess', 120), ('1', 120), ('both', 120), (\"let's\", 119), ('manager', 118), ('move', 118), ('hihihi', 117), ('boy', 117), ('fact', 116), ('head', 116), ('oma', 115), ('second', 115), ('den', 114), ('cant', 114), ('enjoy', 113), ('needs', 113), ('gave', 112), ('hahahaha', 112), ('came', 112), ('wrong', 112), ('looking', 112), ('....', 111), ('tourna', 111), ('soccer', 111), ('points', 110), ('🤣🤣🤣🤣🤣🤣🤣', 110), ('anything', 110), ('facts', 110), ('hehe', 109), ('moze', 109), ('oyo', 109), ('called', 108), ('everyone', 108), (\"ain't\", 108), ('love', 108), ('rest', 107), ('call', 107), ('sunday', 106), ('own', 106), ('ply', 105), ('such', 105), ('having', 105), ('watching', 105), ('read', 105), ('probably', 105), ('ku', 105), ('makes', 104), ('news', 103), ('pliz', 103), ('trust', 103), ('weak', 103), ('yeah', 103), ('comes', 103), ('enough', 103), ('days', 102), ('lyk', 102), ('weekend', 102), ('year', 102), ('fool', 101), ('pipo', 100), ('hahahahah', 99), ('business', 99), ('pool', 99), ('through', 98), ('@256775503191', 98), ('past', 97), ('side', 97), ('anti', 97), ('fooling', 96), ('check', 96), ('keep', 96), ('exactly', 96), ('uganda', 96), ('government', 96), ('ole', 96), ('pl', 95), (\"what's\", 95), ('wich', 95), ('wil', 95), ('asking', 95), ('wash', 95), ('trophies', 95), ('under', 95), ('small', 95), ('match', 94), ('given', 94), ('deal', 94), ('@256785122160', 92), ('hear', 92), ('far', 92), ('spurs', 92), ('life', 92), ('history', 92), ('bench', 92), ('cme', 91), ('ones', 91), ('@256700160901', 91), ('🤔🤔🤔', 91), ('using', 91), ('high', 91), (\"wasn't\", 91), ('case', 91), ('eeehhh', 91), ('ten', 91), ('🤦🏾\\u200d♂️🤦🏾\\u200d♂️🤦🏾\\u200d♂️', 91), ('hehehe', 90), ('neva', 89), ('try', 89), ('mo', 89), ('party', 89), ('shitty', 89), ('failed', 89), ('nonsense', 89), ('didnt', 88), ('alpha', 88), ('place', 88), ('elly', 88), ('everything', 88), ('@256704117202', 87), ('roja', 87), ('premier', 87), ('🤣', 87), ('took', 87), ('wonder', 87), ('it.', 87), ('hahaha', 86), ('o', 86), ('god', 86), ('person', 85), ('soon', 85), ('seeing', 85), ('unless', 85), ('draw', 85), ('matter', 85), ('washed', 84), ('him.', 84), ('taking', 83), ('whole', 83), ('il', 83), ('red', 83), ('different', 83), ('psg', 83), ('join', 82), ('fraud', 82), ('mu', 82), ('kawa', 81), ('alone', 81), ('vs', 81), ('run', 81), ('knows', 81), ('bambi', 80), ('hapi', 80), ('gone', 80), ('😂😂😂.', 80), ('ue', 79), ('support', 79), ('dr', 79), ('ate', 78), ('serious', 78), ('supposed', 78), ('cl', 78), ('hoe', 77), ('lot', 77), ('went', 77), ('😂😂😂😂😂😂😂', 76), ('beta', 76), ('statement', 76), ('6', 76), ('instead', 76), ('pepe', 76), ('stay', 76), ('sign', 75), ('doubt', 75), ('btw', 75), ('else', 75), ('noise', 75), ('sancho', 75), ('propaganda', 75), ('shall', 74), ('plus', 74), ('apparently', 74), ('sense', 74), ('follow', 74), ('young', 74), ('russia', 74), ('reason', 73), ('full', 73), ('penalty', 73), ('find', 73), ('plays', 73), ('season.', 73), ('bruno', 73), ('brother', 72), ('post', 72), ('sua', 72), ('forget', 72), ('anyone', 72), ('casper', 72), ('looks', 71), ('nah', 71), ('clubs', 71), ('help', 71), ('heard', 71), ('well.', 71), ('🤭🤭🤭🤭', 71), ('finals', 70), ('clear', 70), ('yesterday', 70), ('means', 70), ('8', 69), ('changed', 69), ('night', 69), ('data', 69), ('bayern', 69), ('watched', 69), ('hand', 69), ('into', 69), ('finished', 69), ('walai', 69), ('🙆🏾\\u200d♂️🙆🏾\\u200d♂️🙆🏾\\u200d♂️', 69), ('dan', 68), ('otherwise', 68), ('hehehehe', 68), ('level', 68), ('agree', 68), ('system', 68), ('nyo', 68), ('words', 67), ('vino', 67), ('joke', 67), ('midfield', 67), ('munda', 67), ('become', 66), ('wish', 66), ('beating', 66), ('lord', 66), ('atte', 66), ('hag', 66), ('champs', 65), ('meanwhile', 65), ('wont', 65), ('expect', 65), ('wins', 65), ('nawe', 65), ('lose', 65), ('k', 65), ('country', 65), ('via', 64), ('thx', 64), ('hoes', 64), ('var', 64), ('bk', 64), ('add', 64), ('difference', 64), ('alot', 64), ('@256704238049', 64), ('kill', 64), ('scoring', 64), ('giving', 64), ('mwe', 64), ('laputa', 64), ('haha', 63), ('ready', 63), ('nxt', 63), ('imagine', 63), ('less', 63), ('@256756494665', 63), ('england', 63), ('handle', 63), ('finish', 62), ('mukono', 62), ('gona', 62), ('month', 62), ('kno', 62), ('@256702155941', 62), ('almost', 62), ('wats', 62), ('rashford', 62), ('times', 62), ('chances', 62), ('anyway', 62), ('ucl', 62), ('rich', 62), ('google', 62), ('management', 62), ('pogba', 62), ('@256756447491', 62), ('kiboko', 62), ('yesto', 61), ('tonight', 61), ('neda', 61), ('power', 61), ('10', 61), ('behind', 61), ('clearly', 61), ('epl', 60), ('shud', 60), ('please', 60), ('indeed', 60), ('number', 60), ('pass', 60), ('funny', 60), ('knew', 60), ('??', 60), ('frm', 59), ('7', 59), ('according', 59), ('says', 59), ('quite', 59), ('🤣🤣🤣🤣🤣🤣🤣🤣', 59), ('care', 59), ('till', 59), ('kid', 59), ('happen', 59), ('bobi', 59), ('brought', 58), ('self', 58), ('waste', 58), ('worse', 58), ('🔥🔥🔥', 58), ('asked', 58), ('@256779969891', 58), ('taken', 57), ('pato', 57), ('yea', 57), ('poor', 57), ('kale', 57), ('9', 57), ('andrew', 56), ('tmrw', 56), ('training', 56), ('name', 56), ('food', 56), ('thinking', 56), ('manchester', 56), ('betting', 56), ('fire', 56), ('muyindi', 56), ('style', 56), ('tomorrow', 56), (\"couldn't\", 56), ('team.', 56), ('dangerous', 56), ('🤔', 55), ('keeper', 55), ('moment', 55), ('fine', 55), ('sell', 55), ('fools', 55), ('manze', 55), ('now.', 55), ('them.', 55), ('defenders', 55), ('???', 55), ('awo', 55), ('arteta', 55), ('aint', 54), ('pad', 54), ('card', 54), ('1st', 54), ('bought', 54), ('african', 54), ('future', 54), ('😅😅😅😅', 54), ('turn', 54), ('seasons', 54), ('salah', 54), ('attack', 54), ('pitch', 54), ('himself', 54), ('die', 54), ('captain', 54), ('troll', 54), ('while', 54), ('pundit', 54), ('likes', 54), ('tips', 54), ('feel', 53), ('list', 53), ('happening', 53), ('auba', 53), ('dead', 53), ('bringing', 53), ('either', 53), ('🔥🔥', 53), ('pressure', 53), ('oh', 52), ('mek', 52), ('5k', 52), ('position', 52), ('shot', 52), ('question', 52), ('explain', 52), ('blame', 52), ('miss', 52), ('tag', 52), ('wanna', 52), ('ahead', 52), ('assists', 52), ('white', 52), ('owaaye', 52), ('early', 51), ('lukaku', 51), ('close', 51), ('champions', 51), ('2nd', 51), ('50k', 51), ('war', 51), ('line', 51), ('gets', 51), ('few', 51), ('pele', 51), ('@256704861934', 50), ('gd', 50), ('jazz', 50), ('defense', 50), ('each', 50), ('don', 50), ('meant', 50), ('others', 50), ('wama', 50), ('defend', 50), ('argument', 50), ('during', 50), ('calling', 50), ('striker', 50), ('car', 50), ('time.', 50), ('rashy', 50), ('shut', 49), ('tel', 49), ('loose', 49), ('hahahahaha', 49), ('hbd', 49), ('chk', 49), ('chance', 49), ('m7', 49), ('leaving', 49), ('compare', 49), ('longer', 49), ('media', 49), ('class', 49), ('obviously', 49), ('jazzing', 49), ('late', 49), ('drop', 48), ('part', 48), ('assist', 48), ('leg', 48), ('refused', 48), ('sorry', 48), ('mhhhh', 48), ('table', 48), ('clean', 48), ('nice', 48), ('la', 48), ('wa', 48), ('yap', 47), ('wtf', 47), ('lets', 47), ('ryt', 47), ('okay', 47), ('bloody', 47), ('aya', 47), ('meaning', 47), ('word', 47), ('issues', 47), ('challenge', 47), ('respect', 47), ('needed', 47), ('job', 47), ('20', 47), ('video', 47), ('buying', 47), ('kamooli', 47), ('klopp', 47), ('casemiro', 47), ('results', 46), ('winner', 46), ('added', 46), ('eeeee', 46), ('starting', 46), ('@256705785072', 46), ('urs', 46), ('ngabi', 46), ('game.', 46), ('defender', 46), ('simple', 46), ('missing', 46), ('mbappe', 46), ('im', 46), ('until', 46), ('coaches', 46), ('pic', 45), ('tek', 45), ('finally', 45), ('jesus', 45), ('trolling', 45), ('allow', 45), ('mind', 45), ('set', 45), ('sebbo', 45), ('per', 45), ('sent', 45), ('supporting', 45), ('passing', 45), ('street', 45), ('showing', 45), ('partey', 45), ('gea', 44), ('afta', 44), ('target', 44), ('learn', 44), ('save', 44), ('doesnt', 44), ('form', 44), ('rather', 44), ('ki', 44), ('attacking', 44), (\"isn't\", 44), ('performance', 44), ('break', 44), ('broke', 44), ('press', 44), ('bana', 44), ('black', 44), ('board', 43), ('normal', 43), ('ninja', 43), ('vid', 43), ('wads', 43), ('hme', 43), ('feeling', 43), ('🤣🤣🤣🤣🤣🤣🤣🤣🤣', 43), ('answer', 43), ('stupid', 43), ('among', 43), ('fit', 43), ('fa', 43), ('fight', 43), ('loading', 43), ('putas', 43), ('abana', 43), ('haaland', 43), ('antony', 43), ('shots', 42), ('happens', 42), ('missed', 42), ('analysis', 42), ('😏😏😏', 42), ('kids', 42), ('bakuba', 42), ('above', 42), ('complaining', 42), ('whats', 42), ('ended', 42), ('tired', 42), ('that.', 42), ('ugandans', 42), ('contract', 42), ('friends', 42), ('fred', 42), ('once', 42), ('ffe', 42), ('mhhhhhhh', 42), ('dei', 42), ('nyt', 41), ('hahahah', 41), ('thru', 41), ('mine', 41), (\"haven't\", 41), ('martial', 41), ('kip', 41), ('enock', 41), ('competition', 41), ('sold', 41), ('conference', 41), ('pressing', 41), ('wak', 41), ('peace', 41), ('transfer', 41), ('simanyi', 41), ('wendi', 41), ('saka', 41), ('violence', 41), ('jong', 41), ('seriously', 40), ('loser', 40), ('hw', 40), ('bruh', 40), ('injured', 40), ('tok', 40), ('-', 40), ('mpozi', 40), ('suffered', 40), ('stopped', 40), ('mob', 40), ('waaaa', 40), ('fake', 40), ('beautiful', 40), ('babe', 40), ('penalties', 40), ('ovcoz', 40), ('bigger', 40), ('working', 40), ('fail', 40), ('argue', 40), ('beast', 40), ('process', 40), ('era', 40), ('kdb', 40), ('eeehhhh', 40), ('beaten', 39), ('*the', 39), ('gud', 39), ('sleep', 39), ('themselves', 39), ('kick', 39), ('count', 39), ('ova', 39), ('babes', 39), ('thanks', 39), ('deserve', 39), ('twitter', 39), ('europe', 39), ('current', 39), ('atm', 39), ('vote', 39), ('badly', 39), ('beer', 39), ('siliiwo', 39), ('voice', 39), ('age', 39), ('kadeyideyi', 39), ('wamanyi', 39), ('🤔🤔', 38), ('lie', 38), ('available', 38), ('heading', 38), ('sato', 38), ('european', 38), ('mannnn', 38), ('excuse', 38), ('paid', 38), ('france', 38), ('paying', 38), ('stages', 38), ('great', 38), ('argentina', 38), ('accept', 38), ('title', 38), ('kasta', 38), ('there.', 38), ('president', 38), ('alright', 37), ('inbox', 37), ('share', 37), ('shabdee', 37), ('bus', 37), ('final', 37), ('comeback', 37), ('finishing', 37), ('prove', 37), ('wasting', 37), ('ug', 37), ('nid', 37), ('link', 37), ('killing', 37), ('hlp', 37), ('hit', 37), ('story', 37), ('hihihihi', 37), ('face', 37), ('spent', 37), ('farmers', 37), ('loan', 37), ('@256705248165', 37), ('😅', 36), ('lying', 36), ('bd', 36), ('na', 36), ('allowed', 36), ('starts', 36), ('expected', 36), ('😎', 36), ('signed', 36), ('star', 36), ('total', 36), ('generation', 36), ('type', 36), ('worry', 36), ('joined', 36), ('thinks', 36), ('analyst', 36), ('following', 36), ('important', 36), ('signings', 36), ('leicester', 36), ('running', 36), ('balls', 36), ('average', 36), ('kusobola', 36), ('hihihu', 35), ('hive*', 35), ('yellow', 35), ('suffering', 35), ('mr', 35), ('signing', 35), ('bar', 35), ('between', 35), ('compared', 35), ('😅😅', 35), ('reach', 35), ('dis', 35), ('apart', 35), ('killed', 35), ('stil', 35), ('😎😎😎😎', 35), ('spot', 35), ('putting', 35), ('newcastle', 35), ('situation', 35), ('public', 35), ('key', 35), ('legend', 35), ('harry', 35), ('continue', 35), ('3rd', 35), ('laba', 35), ('players.', 35), ('🤦🏾\\u200d♂️🤦🏾\\u200d♂️🤦🏾\\u200d♂️🤦🏾\\u200d♂️', 35), ('plying', 34), ('losing', 34), ('tried', 34), ('complain', 34), ('course', 34), ('period', 34), ('pick', 34), ('whom', 34), ('live', 34), ('friend', 34), ('seems', 34), ('ticket', 34), ('🔥🔥🔥🔥', 34), ('point.', 34), ('swear', 34), ('especially', 34), (\"hasn't\", 34), ('summer', 34), ('doesn’t', 34), ('trouble', 34), ('countries', 34), ('@256774347267', 34), ('@256702391179', 34), ('eat', 33), ('kind', 33), ('luck', 33), ('crying', 33), ('jst', 33), ('offer', 33), ('easter', 33), ('waaa', 33), ('takes', 33), ('careful', 33), ('whatever', 33), ('nw', 33), ('listen', 33), ('ran', 33), ('short', 33), ('one.', 33), ('20k', 33), ('football.', 33), ('here.', 33), (\"wouldn't\", 33), ('shit.', 33), ('defending', 33), ('fighting', 33), ('mzee', 33), ('varane', 33), ('quit', 32), ('gamers', 32), ('bliv', 32), ('goes', 32), ('kane', 32), ('out.', 32), ('forgotten', 32), ('below', 32), ('stress', 32), ('cz', 32), ('fc', 32), ('carry', 32), ('m', 32), ('single', 32), ('men', 32), ('me.', 32), ('kido', 32), ('social', 32), ('ehh', 32), ('passes', 32), ('company', 32), ('@256703650555', 32)]\n"
     ]
    }
   ],
   "source": [
    "from collections import Counter\n",
    "import nltk\n",
    "nltk.download('punkt')\n",
    "\n",
    "# get list of all words\n",
    "all_words = ' '.join(df['message']).split()\n",
    "\n",
    "# exclude common English words and phrases\n",
    "common_words = ['left','dont','','which','against','c','waiting','dea','wea','does\\'t','hea','telling','things','started','though','didn\\'t','than','any','hve','very','tell','b','be','nt','other','too','ok','better','bt','2','nt''t','mi','said','here','mi','then','r','after','say','i\\'m','z','his','now','..','d','n','no','it\\'s','don\\'t','...','only','about','some','dat','that\\'s','saying','need','without','told','wait','','made','guys','back','well','take','wants','understand','thought','yet','already','maybe','every','big','much','com','much','going','make','come','look','thy','start','eh','mbu','new','played','da','really','mean','give','many','always','yes','wat','best','coz','sure','status','next','right','way','4','never','still','one','last','ur','let','good','think','also','see','want','know','even','guy','like','the', 'a', 'an', 'in', 'of', 'to', 'on', 'and', 'is', 'that', 'for', 'with', 'at', 'from', 'was', 'were', 'it', 'this', 'they', 'as', 'be', 'by', 'or', 'you', 'your', 'we', 'our', 'not', 'but', 'are', 'will', 'can', 'all', 'has', 'have', 'had', 'been', 'there', 'what', 'who', 'where', 'when', 'why', 'how', 'just', 'more', 'so', 'out', 'up', 'down', 'do', 'did', 'does', 'get', 'got', 'go', 'if', 'on', 'off', 'my', 'me', 'i', 'he', 'she', 'him', 'her', 'they', 'them', 'it', 'its', 'we', 'us', 'am', 'are', 'is', 'was', 'were', 'be', 'been', 'being', 'that', 'those', 'these', 'can\\'t', 'won\\'t', 'should', 'should\\'ve', 'could', 'could\\'ve', 'would', 'would\\'ve', 'might', 'might\\'ve', 'must', 'must\\'ve']\n",
    "\n",
    "# convert all common words and words to be excluded to lowercase\n",
    "common_words = [word.lower() for word in common_words]\n",
    "\n",
    "# count frequency of each word\n",
    "word_counts = Counter([word.lower() for word in all_words if word.lower() not in common_words])\n",
    "\n",
    "print(word_counts.most_common(1000))\n"
   ]
  },
  {
   "cell_type": "code",
   "execution_count": 15,
   "id": "bfb77bff",
   "metadata": {},
   "outputs": [
    {
     "data": {
      "text/html": [
       "<div>\n",
       "<style scoped>\n",
       "    .dataframe tbody tr th:only-of-type {\n",
       "        vertical-align: middle;\n",
       "    }\n",
       "\n",
       "    .dataframe tbody tr th {\n",
       "        vertical-align: top;\n",
       "    }\n",
       "\n",
       "    .dataframe thead th {\n",
       "        text-align: right;\n",
       "    }\n",
       "</style>\n",
       "<table border=\"1\" class=\"dataframe\">\n",
       "  <thead>\n",
       "    <tr style=\"text-align: right;\">\n",
       "      <th></th>\n",
       "      <th>count</th>\n",
       "    </tr>\n",
       "  </thead>\n",
       "  <tbody>\n",
       "    <tr>\n",
       "      <th>u</th>\n",
       "      <td>6035</td>\n",
       "    </tr>\n",
       "    <tr>\n",
       "      <th>.</th>\n",
       "      <td>2989</td>\n",
       "    </tr>\n",
       "    <tr>\n",
       "      <th>man</th>\n",
       "      <td>2075</td>\n",
       "    </tr>\n",
       "    <tr>\n",
       "      <th>🤣🤣🤣🤣</th>\n",
       "      <td>2051</td>\n",
       "    </tr>\n",
       "    <tr>\n",
       "      <th>🤣🤣🤣</th>\n",
       "      <td>1997</td>\n",
       "    </tr>\n",
       "    <tr>\n",
       "      <th>😂😂</th>\n",
       "      <td>1090</td>\n",
       "    </tr>\n",
       "    <tr>\n",
       "      <th>😂😂😂</th>\n",
       "      <td>1011</td>\n",
       "    </tr>\n",
       "    <tr>\n",
       "      <th>team</th>\n",
       "      <td>767</td>\n",
       "    </tr>\n",
       "    <tr>\n",
       "      <th>🤣🤣🤣🤣🤣</th>\n",
       "      <td>760</td>\n",
       "    </tr>\n",
       "    <tr>\n",
       "      <th>😂😂😂😂</th>\n",
       "      <td>758</td>\n",
       "    </tr>\n",
       "  </tbody>\n",
       "</table>\n",
       "</div>"
      ],
      "text/plain": [
       "       count\n",
       "u       6035\n",
       ".       2989\n",
       "man     2075\n",
       "🤣🤣🤣🤣    2051\n",
       "🤣🤣🤣     1997\n",
       "😂😂      1090\n",
       "😂😂😂     1011\n",
       "team     767\n",
       "🤣🤣🤣🤣🤣    760\n",
       "😂😂😂😂     758"
      ]
     },
     "execution_count": 15,
     "metadata": {},
     "output_type": "execute_result"
    }
   ],
   "source": [
    "# create a DataFrame from the Counter object\n",
    "df_word_counts = pd.DataFrame.from_dict(word_counts, orient='index', columns=['count'])\n",
    "\n",
    "# sort the DataFrame by count, in descending order\n",
    "df_word_counts = df_word_counts.sort_values('count', ascending=False)\n",
    "df_word_counts.head(10)"
   ]
  },
  {
   "cell_type": "code",
   "execution_count": 16,
   "id": "df9daa3b",
   "metadata": {},
   "outputs": [],
   "source": [
    "# export the DataFrame to a CSV file\n",
    "# df_word_counts.to_csv('Common words.csv')"
   ]
  },
  {
   "cell_type": "code",
   "execution_count": 17,
   "id": "4f85c62d",
   "metadata": {},
   "outputs": [
    {
     "data": {
      "text/plain": [
       "Bryo      14285\n",
       "Kaggwa    10650\n",
       "Danny     10146\n",
       "Franko     9775\n",
       "Alpha      2480\n",
       "Pato        633\n",
       "Oyaro       588\n",
       "Oweka       323\n",
       "Ok          257\n",
       "Giroud       68\n",
       "Oma          33\n",
       "Kema          7\n",
       "Colloh        2\n",
       "Name: user, dtype: int64"
      ]
     },
     "execution_count": 17,
     "metadata": {},
     "output_type": "execute_result"
    }
   ],
   "source": [
    "df['user'].value_counts()"
   ]
  },
  {
   "cell_type": "code",
   "execution_count": 18,
   "id": "1a4f1b18",
   "metadata": {},
   "outputs": [
    {
     "data": {
      "image/png": "[encoded data removed]",
      "text/plain": [
       "<Figure size 640x480 with 1 Axes>"
      ]
     },
     "metadata": {},
     "output_type": "display_data"
    }
   ],
   "source": [
    "# extract hour from time column\n",
    "df['hour'] = pd.to_datetime(df['time']).dt.hour\n",
    "\n",
    "# group by hour and count number of messages\n",
    "hourly_counts = df.groupby('hour')['message'].count()\n",
    "\n",
    "# plot results\n",
    "plt.plot(hourly_counts.index, hourly_counts.values)\n",
    "plt.title('Number of messages by hour of day')\n",
    "plt.xlabel('Hour of day')\n",
    "plt.ylabel('Number of messages')\n",
    "plt.show()"
   ]
  },
  {
   "cell_type": "code",
   "execution_count": 19,
   "id": "ee8fb755",
   "metadata": {},
   "outputs": [
    {
     "data": {
      "text/plain": [
       "date\n",
       "2018-01-31     326\n",
       "2018-02-28     354\n",
       "2018-03-31    1332\n",
       "2018-04-30     695\n",
       "2018-05-31     548\n",
       "              ... \n",
       "2022-11-30    1524\n",
       "2022-12-31    1250\n",
       "2023-01-31    1982\n",
       "2023-02-28    1475\n",
       "2023-03-31      99\n",
       "Freq: M, Name: message, Length: 63, dtype: int64"
      ]
     },
     "execution_count": 19,
     "metadata": {},
     "output_type": "execute_result"
    }
   ],
   "source": [
    "monthly_counts = df.resample('M', on='date').count()['message']\n",
    "monthly_counts"
   ]
  },
  {
   "cell_type": "code",
   "execution_count": 20,
   "id": "190795e9",
   "metadata": {},
   "outputs": [
    {
     "data": {
      "text/plain": [
       "date\n",
       "2018-12-31     7458\n",
       "2019-12-31    11470\n",
       "2020-12-31     5495\n",
       "2021-12-31     5062\n",
       "2022-12-31    16206\n",
       "2023-12-31     3556\n",
       "Freq: A-DEC, Name: message, dtype: int64"
      ]
     },
     "execution_count": 20,
     "metadata": {},
     "output_type": "execute_result"
    }
   ],
   "source": [
    "yearly_counts = df.resample('Y', on='date').count()['message']\n",
    "yearly_counts"
   ]
  },
  {
   "cell_type": "code",
   "execution_count": 22,
   "id": "5bb78acd",
   "metadata": {},
   "outputs": [
    {
     "data": {
      "image/png": "[encoded data removed]",
      "text/plain": [
       "<Figure size 500x500 with 1 Axes>"
      ]
     },
     "metadata": {},
     "output_type": "display_data"
    }
   ],
   "source": [
    "import seaborn as sns\n",
    "\n",
    "# Group messages by day of the week and count the number of messages\n",
    "weekday_counts = df.groupby(df['date'].dt.weekday).size()\n",
    "\n",
    "# Plot the data as a distribution plot\n",
    "sns.displot(df, x=df['date'].dt.weekday, kind='kde')\n",
    "plt.xticks(range(7), ['Mon', 'Tue', 'Wed', 'Thu', 'Fri', 'Sat', 'Sun'])\n",
    "plt.xlabel('Day of the week')\n",
    "plt.ylabel('Density')\n",
    "plt.title('Distribution of messages by day of the week')\n",
    "plt.show()"
   ]
  },
  {
   "cell_type": "code",
   "execution_count": 23,
   "id": "1407cca5",
   "metadata": {},
   "outputs": [
    {
     "data": {
      "image/png": "[encoded data removed]",
      "text/plain": [
       "<Figure size 640x480 with 1 Axes>"
      ]
     },
     "metadata": {},
     "output_type": "display_data"
    }
   ],
   "source": [
    "# convert date column to pandas datetime format\n",
    "df['date'] = pd.to_datetime(df['date'])\n",
    "\n",
    "# group messages by year and month, and count the number of messages in each group\n",
    "msg_count = df.groupby([df['date'].dt.year, df['date'].dt.month])['message'].count()\n",
    "\n",
    "# create a line plot of the message count by year and month\n",
    "msg_count.plot(kind='line')\n",
    "\n",
    "# set plot labels and title\n",
    "plt.xlabel('Year and Month')\n",
    "plt.ylabel('Number of Messages')\n",
    "plt.title('Messages by Month for Each Year')\n",
    "plt.show()"
   ]
  },
  {
   "cell_type": "markdown",
   "id": "70c1e945",
   "metadata": {},
   "source": [
    "# Sentiment Analysis with Afinn"
   ]
  },
  {
   "cell_type": "code",
   "execution_count": 24,
   "id": "43ec87ee",
   "metadata": {},
   "outputs": [
    {
     "name": "stdout",
     "output_type": "stream",
     "text": [
      "mean    0.089447\n",
      "std     1.604203\n",
      "Name: sentiment_score, dtype: float64\n"
     ]
    }
   ],
   "source": [
    "from afinn import Afinn\n",
    "\n",
    "afinn = Afinn()\n",
    "\n",
    "# compute sentiment score of each message\n",
    "df['sentiment_score'] = df['message'].apply(lambda x: afinn.score(x))\n",
    "\n",
    "sentiment_scores = df['sentiment_score']\n",
    "summary_stats = sentiment_scores.describe()\n",
    "print(summary_stats[['mean', 'std']])"
   ]
  },
  {
   "cell_type": "code",
   "execution_count": 25,
   "id": "a977eaf3",
   "metadata": {},
   "outputs": [
    {
     "name": "stdout",
     "output_type": "stream",
     "text": [
      "user\n",
      "Alpha     0.109274\n",
      "Bryo      0.147707\n",
      "Colloh    0.000000\n",
      "Danny     0.071161\n",
      "Franko    0.041739\n",
      "Giroud    0.102941\n",
      "Kaggwa    0.061221\n",
      "Kema      0.857143\n",
      "Ok       -0.225681\n",
      "Oma       0.666667\n",
      "Oweka     0.325077\n",
      "Oyaro     0.267007\n",
      "Pato      0.004739\n",
      "Name: message, dtype: float64\n"
     ]
    }
   ],
   "source": [
    "# compute sentiment scores for each user\n",
    "sentiment_scores = df.groupby('user')['message'].apply(lambda x: x.apply(afinn.score).mean())\n",
    "\n",
    "# print sentiment scores\n",
    "print(sentiment_scores)"
   ]
  },
  {
   "cell_type": "code",
   "execution_count": null,
   "id": "976088ff",
   "metadata": {},
   "outputs": [],
   "source": []
  },
  {
   "cell_type": "code",
   "execution_count": 26,
   "id": "5181caf1",
   "metadata": {},
   "outputs": [
    {
     "data": {
      "text/plain": [
       "date\n",
       "2018-01-08    0.000000\n",
       "2018-01-18   -0.023256\n",
       "2018-01-19    0.266667\n",
       "2018-01-21    0.300000\n",
       "2018-01-22    0.437500\n",
       "                ...   \n",
       "2023-02-26    0.142857\n",
       "2023-02-27    0.454545\n",
       "2023-02-28    0.176471\n",
       "2023-03-01    0.134328\n",
       "2023-03-02    0.625000\n",
       "Name: message, Length: 1701, dtype: float64"
      ]
     },
     "execution_count": 26,
     "metadata": {},
     "output_type": "execute_result"
    }
   ],
   "source": [
    "# Group the messages by day and compute the sentiment score for each day\n",
    "afinn = Afinn()\n",
    "sentiment_scores = df.groupby(df['date'].dt.date)['message'].apply(lambda x: x.apply(afinn.score).mean())\n",
    "sentiment_scores"
   ]
  },
  {
   "cell_type": "code",
   "execution_count": 27,
   "id": "c17d5765",
   "metadata": {},
   "outputs": [
    {
     "data": {
      "image/png": "[encoded data removed]",
      "text/plain": [
       "<Figure size 640x480 with 1 Axes>"
      ]
     },
     "metadata": {},
     "output_type": "display_data"
    }
   ],
   "source": [
    "# Plot the sentiment scores over time\n",
    "plt.plot(sentiment_scores.index, sentiment_scores.values)\n",
    "plt.xlabel('Date')\n",
    "plt.ylabel('Sentiment Score')\n",
    "plt.title('Sentiment Analysis over Time')\n",
    "plt.show()"
   ]
  },
  {
   "cell_type": "markdown",
   "id": "40855854",
   "metadata": {},
   "source": [
    "# Sentiment Analysis with Vader"
   ]
  },
  {
   "cell_type": "code",
   "execution_count": 28,
   "id": "20a90e0e",
   "metadata": {},
   "outputs": [
    {
     "name": "stderr",
     "output_type": "stream",
     "text": [
      "[nltk_data] Downloading package vader_lexicon to\n",
      "[nltk_data]     C:\\Users\\danie\\AppData\\Roaming\\nltk_data...\n",
      "[nltk_data]   Package vader_lexicon is already up-to-date!\n"
     ]
    },
    {
     "data": {
      "text/plain": [
       "True"
      ]
     },
     "execution_count": 28,
     "metadata": {},
     "output_type": "execute_result"
    }
   ],
   "source": [
    "import nltk\n",
    "nltk.download('vader_lexicon')"
   ]
  },
  {
   "cell_type": "code",
   "execution_count": 29,
   "id": "545834f4",
   "metadata": {},
   "outputs": [],
   "source": [
    "from nltk.sentiment.vader import SentimentIntensityAnalyzer"
   ]
  },
  {
   "cell_type": "code",
   "execution_count": 30,
   "id": "ca4ec54f",
   "metadata": {},
   "outputs": [],
   "source": [
    "#Creating an instance of vader called SID\n",
    "sid = SentimentIntensityAnalyzer() \n",
    "\n",
    "#This will take on a string, returns a dictionary of scores"
   ]
  },
  {
   "cell_type": "code",
   "execution_count": 31,
   "id": "7d695fc3",
   "metadata": {},
   "outputs": [
    {
     "data": {
      "text/plain": [
       "{'neg': 0.0, 'neu': 0.44, 'pos': 0.56, 'compound': 0.6249}"
      ]
     },
     "execution_count": 31,
     "metadata": {},
     "output_type": "execute_result"
    }
   ],
   "source": [
    "a = 'That was a nice shot for sure'\n",
    "sid.polarity_scores(a)"
   ]
  },
  {
   "cell_type": "code",
   "execution_count": 32,
   "id": "0accc356",
   "metadata": {},
   "outputs": [
    {
     "data": {
      "text/plain": [
       "'\\u200ePato created this group'"
      ]
     },
     "execution_count": 32,
     "metadata": {},
     "output_type": "execute_result"
    }
   ],
   "source": [
    "df.iloc[0]['message']"
   ]
  },
  {
   "cell_type": "code",
   "execution_count": 33,
   "id": "ced88f8b",
   "metadata": {},
   "outputs": [
    {
     "data": {
      "text/plain": [
       "{'neg': 0.0, 'neu': 0.6, 'pos': 0.4, 'compound': 0.25}"
      ]
     },
     "execution_count": 33,
     "metadata": {},
     "output_type": "execute_result"
    }
   ],
   "source": [
    "sid.polarity_scores(df.iloc[0]['message'])"
   ]
  },
  {
   "cell_type": "code",
   "execution_count": 34,
   "id": "d8edad49",
   "metadata": {},
   "outputs": [
    {
     "data": {
      "text/html": [
       "<div>\n",
       "<style scoped>\n",
       "    .dataframe tbody tr th:only-of-type {\n",
       "        vertical-align: middle;\n",
       "    }\n",
       "\n",
       "    .dataframe tbody tr th {\n",
       "        vertical-align: top;\n",
       "    }\n",
       "\n",
       "    .dataframe thead th {\n",
       "        text-align: right;\n",
       "    }\n",
       "</style>\n",
       "<table border=\"1\" class=\"dataframe\">\n",
       "  <thead>\n",
       "    <tr style=\"text-align: right;\">\n",
       "      <th></th>\n",
       "      <th>date</th>\n",
       "      <th>time</th>\n",
       "      <th>user</th>\n",
       "      <th>message</th>\n",
       "      <th>year</th>\n",
       "      <th>month</th>\n",
       "      <th>hour</th>\n",
       "      <th>sentiment_score</th>\n",
       "    </tr>\n",
       "  </thead>\n",
       "  <tbody>\n",
       "    <tr>\n",
       "      <th>0</th>\n",
       "      <td>2018-01-08</td>\n",
       "      <td>11:34:34</td>\n",
       "      <td>Pato</td>\n",
       "      <td>‎Pato created this group</td>\n",
       "      <td>2018</td>\n",
       "      <td>1</td>\n",
       "      <td>11</td>\n",
       "      <td>0.0</td>\n",
       "    </tr>\n",
       "  </tbody>\n",
       "</table>\n",
       "</div>"
      ],
      "text/plain": [
       "        date      time  user                   message  year  month  hour  \\\n",
       "0 2018-01-08  11:34:34  Pato  ‎Pato created this group  2018      1    11   \n",
       "\n",
       "   sentiment_score  \n",
       "0              0.0  "
      ]
     },
     "execution_count": 34,
     "metadata": {},
     "output_type": "execute_result"
    }
   ],
   "source": [
    "#Adding Scores and labels to the data frame\n",
    "df.head(1)"
   ]
  },
  {
   "cell_type": "code",
   "execution_count": 35,
   "id": "92ccd507",
   "metadata": {},
   "outputs": [],
   "source": [
    "df['Scores'] = df['message'].apply(lambda message: sid.polarity_scores(message))"
   ]
  },
  {
   "cell_type": "code",
   "execution_count": 36,
   "id": "892d9833",
   "metadata": {},
   "outputs": [
    {
     "data": {
      "text/html": [
       "<div>\n",
       "<style scoped>\n",
       "    .dataframe tbody tr th:only-of-type {\n",
       "        vertical-align: middle;\n",
       "    }\n",
       "\n",
       "    .dataframe tbody tr th {\n",
       "        vertical-align: top;\n",
       "    }\n",
       "\n",
       "    .dataframe thead th {\n",
       "        text-align: right;\n",
       "    }\n",
       "</style>\n",
       "<table border=\"1\" class=\"dataframe\">\n",
       "  <thead>\n",
       "    <tr style=\"text-align: right;\">\n",
       "      <th></th>\n",
       "      <th>date</th>\n",
       "      <th>time</th>\n",
       "      <th>user</th>\n",
       "      <th>message</th>\n",
       "      <th>year</th>\n",
       "      <th>month</th>\n",
       "      <th>hour</th>\n",
       "      <th>sentiment_score</th>\n",
       "      <th>Scores</th>\n",
       "    </tr>\n",
       "  </thead>\n",
       "  <tbody>\n",
       "    <tr>\n",
       "      <th>0</th>\n",
       "      <td>2018-01-08</td>\n",
       "      <td>11:34:34</td>\n",
       "      <td>Pato</td>\n",
       "      <td>‎Pato created this group</td>\n",
       "      <td>2018</td>\n",
       "      <td>1</td>\n",
       "      <td>11</td>\n",
       "      <td>0.0</td>\n",
       "      <td>{'neg': 0.0, 'neu': 0.6, 'pos': 0.4, 'compound...</td>\n",
       "    </tr>\n",
       "    <tr>\n",
       "      <th>1</th>\n",
       "      <td>2018-01-18</td>\n",
       "      <td>15:30:34</td>\n",
       "      <td>Oyaro</td>\n",
       "      <td>👀👀</td>\n",
       "      <td>2018</td>\n",
       "      <td>1</td>\n",
       "      <td>15</td>\n",
       "      <td>0.0</td>\n",
       "      <td>{'neg': 0.0, 'neu': 1.0, 'pos': 0.0, 'compound...</td>\n",
       "    </tr>\n",
       "    <tr>\n",
       "      <th>2</th>\n",
       "      <td>2018-01-18</td>\n",
       "      <td>22:33:36</td>\n",
       "      <td>Pato</td>\n",
       "      <td>Sam1 has swallowed 8 goals</td>\n",
       "      <td>2018</td>\n",
       "      <td>1</td>\n",
       "      <td>22</td>\n",
       "      <td>0.0</td>\n",
       "      <td>{'neg': 0.0, 'neu': 1.0, 'pos': 0.0, 'compound...</td>\n",
       "    </tr>\n",
       "    <tr>\n",
       "      <th>3</th>\n",
       "      <td>2018-01-18</td>\n",
       "      <td>22:34:01</td>\n",
       "      <td>Oweka</td>\n",
       "      <td>Oh my 😅</td>\n",
       "      <td>2018</td>\n",
       "      <td>1</td>\n",
       "      <td>22</td>\n",
       "      <td>0.0</td>\n",
       "      <td>{'neg': 0.0, 'neu': 1.0, 'pos': 0.0, 'compound...</td>\n",
       "    </tr>\n",
       "    <tr>\n",
       "      <th>4</th>\n",
       "      <td>2018-01-18</td>\n",
       "      <td>22:34:24</td>\n",
       "      <td>Danny</td>\n",
       "      <td>Who dat</td>\n",
       "      <td>2018</td>\n",
       "      <td>1</td>\n",
       "      <td>22</td>\n",
       "      <td>0.0</td>\n",
       "      <td>{'neg': 0.0, 'neu': 1.0, 'pos': 0.0, 'compound...</td>\n",
       "    </tr>\n",
       "  </tbody>\n",
       "</table>\n",
       "</div>"
      ],
      "text/plain": [
       "        date      time   user                     message  year  month  hour  \\\n",
       "0 2018-01-08  11:34:34   Pato    ‎Pato created this group  2018      1    11   \n",
       "1 2018-01-18  15:30:34  Oyaro                          👀👀  2018      1    15   \n",
       "2 2018-01-18  22:33:36   Pato  Sam1 has swallowed 8 goals  2018      1    22   \n",
       "3 2018-01-18  22:34:01  Oweka                     Oh my 😅  2018      1    22   \n",
       "4 2018-01-18  22:34:24  Danny                     Who dat  2018      1    22   \n",
       "\n",
       "   sentiment_score                                             Scores  \n",
       "0              0.0  {'neg': 0.0, 'neu': 0.6, 'pos': 0.4, 'compound...  \n",
       "1              0.0  {'neg': 0.0, 'neu': 1.0, 'pos': 0.0, 'compound...  \n",
       "2              0.0  {'neg': 0.0, 'neu': 1.0, 'pos': 0.0, 'compound...  \n",
       "3              0.0  {'neg': 0.0, 'neu': 1.0, 'pos': 0.0, 'compound...  \n",
       "4              0.0  {'neg': 0.0, 'neu': 1.0, 'pos': 0.0, 'compound...  "
      ]
     },
     "execution_count": 36,
     "metadata": {},
     "output_type": "execute_result"
    }
   ],
   "source": [
    "df.head()"
   ]
  },
  {
   "cell_type": "code",
   "execution_count": 37,
   "id": "8239271d",
   "metadata": {},
   "outputs": [
    {
     "data": {
      "text/html": [
       "<div>\n",
       "<style scoped>\n",
       "    .dataframe tbody tr th:only-of-type {\n",
       "        vertical-align: middle;\n",
       "    }\n",
       "\n",
       "    .dataframe tbody tr th {\n",
       "        vertical-align: top;\n",
       "    }\n",
       "\n",
       "    .dataframe thead th {\n",
       "        text-align: right;\n",
       "    }\n",
       "</style>\n",
       "<table border=\"1\" class=\"dataframe\">\n",
       "  <thead>\n",
       "    <tr style=\"text-align: right;\">\n",
       "      <th></th>\n",
       "      <th>date</th>\n",
       "      <th>time</th>\n",
       "      <th>user</th>\n",
       "      <th>message</th>\n",
       "      <th>year</th>\n",
       "      <th>month</th>\n",
       "      <th>hour</th>\n",
       "      <th>sentiment_score</th>\n",
       "      <th>Scores</th>\n",
       "      <th>Compound</th>\n",
       "    </tr>\n",
       "  </thead>\n",
       "  <tbody>\n",
       "    <tr>\n",
       "      <th>0</th>\n",
       "      <td>2018-01-08</td>\n",
       "      <td>11:34:34</td>\n",
       "      <td>Pato</td>\n",
       "      <td>‎Pato created this group</td>\n",
       "      <td>2018</td>\n",
       "      <td>1</td>\n",
       "      <td>11</td>\n",
       "      <td>0.0</td>\n",
       "      <td>{'neg': 0.0, 'neu': 0.6, 'pos': 0.4, 'compound...</td>\n",
       "      <td>0.25</td>\n",
       "    </tr>\n",
       "    <tr>\n",
       "      <th>1</th>\n",
       "      <td>2018-01-18</td>\n",
       "      <td>15:30:34</td>\n",
       "      <td>Oyaro</td>\n",
       "      <td>👀👀</td>\n",
       "      <td>2018</td>\n",
       "      <td>1</td>\n",
       "      <td>15</td>\n",
       "      <td>0.0</td>\n",
       "      <td>{'neg': 0.0, 'neu': 1.0, 'pos': 0.0, 'compound...</td>\n",
       "      <td>0.00</td>\n",
       "    </tr>\n",
       "    <tr>\n",
       "      <th>2</th>\n",
       "      <td>2018-01-18</td>\n",
       "      <td>22:33:36</td>\n",
       "      <td>Pato</td>\n",
       "      <td>Sam1 has swallowed 8 goals</td>\n",
       "      <td>2018</td>\n",
       "      <td>1</td>\n",
       "      <td>22</td>\n",
       "      <td>0.0</td>\n",
       "      <td>{'neg': 0.0, 'neu': 1.0, 'pos': 0.0, 'compound...</td>\n",
       "      <td>0.00</td>\n",
       "    </tr>\n",
       "    <tr>\n",
       "      <th>3</th>\n",
       "      <td>2018-01-18</td>\n",
       "      <td>22:34:01</td>\n",
       "      <td>Oweka</td>\n",
       "      <td>Oh my 😅</td>\n",
       "      <td>2018</td>\n",
       "      <td>1</td>\n",
       "      <td>22</td>\n",
       "      <td>0.0</td>\n",
       "      <td>{'neg': 0.0, 'neu': 1.0, 'pos': 0.0, 'compound...</td>\n",
       "      <td>0.00</td>\n",
       "    </tr>\n",
       "    <tr>\n",
       "      <th>4</th>\n",
       "      <td>2018-01-18</td>\n",
       "      <td>22:34:24</td>\n",
       "      <td>Danny</td>\n",
       "      <td>Who dat</td>\n",
       "      <td>2018</td>\n",
       "      <td>1</td>\n",
       "      <td>22</td>\n",
       "      <td>0.0</td>\n",
       "      <td>{'neg': 0.0, 'neu': 1.0, 'pos': 0.0, 'compound...</td>\n",
       "      <td>0.00</td>\n",
       "    </tr>\n",
       "  </tbody>\n",
       "</table>\n",
       "</div>"
      ],
      "text/plain": [
       "        date      time   user                     message  year  month  hour  \\\n",
       "0 2018-01-08  11:34:34   Pato    ‎Pato created this group  2018      1    11   \n",
       "1 2018-01-18  15:30:34  Oyaro                          👀👀  2018      1    15   \n",
       "2 2018-01-18  22:33:36   Pato  Sam1 has swallowed 8 goals  2018      1    22   \n",
       "3 2018-01-18  22:34:01  Oweka                     Oh my 😅  2018      1    22   \n",
       "4 2018-01-18  22:34:24  Danny                     Who dat  2018      1    22   \n",
       "\n",
       "   sentiment_score                                             Scores  \\\n",
       "0              0.0  {'neg': 0.0, 'neu': 0.6, 'pos': 0.4, 'compound...   \n",
       "1              0.0  {'neg': 0.0, 'neu': 1.0, 'pos': 0.0, 'compound...   \n",
       "2              0.0  {'neg': 0.0, 'neu': 1.0, 'pos': 0.0, 'compound...   \n",
       "3              0.0  {'neg': 0.0, 'neu': 1.0, 'pos': 0.0, 'compound...   \n",
       "4              0.0  {'neg': 0.0, 'neu': 1.0, 'pos': 0.0, 'compound...   \n",
       "\n",
       "   Compound  \n",
       "0      0.25  \n",
       "1      0.00  \n",
       "2      0.00  \n",
       "3      0.00  \n",
       "4      0.00  "
      ]
     },
     "execution_count": 37,
     "metadata": {},
     "output_type": "execute_result"
    }
   ],
   "source": [
    "df['Compound'] = df['Scores'].apply(lambda d:d['compound'])\n",
    "df.head()"
   ]
  },
  {
   "cell_type": "code",
   "execution_count": 38,
   "id": "e70c56a5",
   "metadata": {},
   "outputs": [
    {
     "data": {
      "text/html": [
       "<div>\n",
       "<style scoped>\n",
       "    .dataframe tbody tr th:only-of-type {\n",
       "        vertical-align: middle;\n",
       "    }\n",
       "\n",
       "    .dataframe tbody tr th {\n",
       "        vertical-align: top;\n",
       "    }\n",
       "\n",
       "    .dataframe thead th {\n",
       "        text-align: right;\n",
       "    }\n",
       "</style>\n",
       "<table border=\"1\" class=\"dataframe\">\n",
       "  <thead>\n",
       "    <tr style=\"text-align: right;\">\n",
       "      <th></th>\n",
       "      <th>date</th>\n",
       "      <th>time</th>\n",
       "      <th>user</th>\n",
       "      <th>message</th>\n",
       "      <th>year</th>\n",
       "      <th>month</th>\n",
       "      <th>hour</th>\n",
       "      <th>sentiment_score</th>\n",
       "      <th>Scores</th>\n",
       "      <th>Compound</th>\n",
       "      <th>Sentiment</th>\n",
       "    </tr>\n",
       "  </thead>\n",
       "  <tbody>\n",
       "    <tr>\n",
       "      <th>0</th>\n",
       "      <td>2018-01-08</td>\n",
       "      <td>11:34:34</td>\n",
       "      <td>Pato</td>\n",
       "      <td>‎Pato created this group</td>\n",
       "      <td>2018</td>\n",
       "      <td>1</td>\n",
       "      <td>11</td>\n",
       "      <td>0.0</td>\n",
       "      <td>{'neg': 0.0, 'neu': 0.6, 'pos': 0.4, 'compound...</td>\n",
       "      <td>0.25</td>\n",
       "      <td>Positive</td>\n",
       "    </tr>\n",
       "    <tr>\n",
       "      <th>1</th>\n",
       "      <td>2018-01-18</td>\n",
       "      <td>15:30:34</td>\n",
       "      <td>Oyaro</td>\n",
       "      <td>👀👀</td>\n",
       "      <td>2018</td>\n",
       "      <td>1</td>\n",
       "      <td>15</td>\n",
       "      <td>0.0</td>\n",
       "      <td>{'neg': 0.0, 'neu': 1.0, 'pos': 0.0, 'compound...</td>\n",
       "      <td>0.00</td>\n",
       "      <td>Neutral</td>\n",
       "    </tr>\n",
       "    <tr>\n",
       "      <th>2</th>\n",
       "      <td>2018-01-18</td>\n",
       "      <td>22:33:36</td>\n",
       "      <td>Pato</td>\n",
       "      <td>Sam1 has swallowed 8 goals</td>\n",
       "      <td>2018</td>\n",
       "      <td>1</td>\n",
       "      <td>22</td>\n",
       "      <td>0.0</td>\n",
       "      <td>{'neg': 0.0, 'neu': 1.0, 'pos': 0.0, 'compound...</td>\n",
       "      <td>0.00</td>\n",
       "      <td>Neutral</td>\n",
       "    </tr>\n",
       "    <tr>\n",
       "      <th>3</th>\n",
       "      <td>2018-01-18</td>\n",
       "      <td>22:34:01</td>\n",
       "      <td>Oweka</td>\n",
       "      <td>Oh my 😅</td>\n",
       "      <td>2018</td>\n",
       "      <td>1</td>\n",
       "      <td>22</td>\n",
       "      <td>0.0</td>\n",
       "      <td>{'neg': 0.0, 'neu': 1.0, 'pos': 0.0, 'compound...</td>\n",
       "      <td>0.00</td>\n",
       "      <td>Neutral</td>\n",
       "    </tr>\n",
       "    <tr>\n",
       "      <th>4</th>\n",
       "      <td>2018-01-18</td>\n",
       "      <td>22:34:24</td>\n",
       "      <td>Danny</td>\n",
       "      <td>Who dat</td>\n",
       "      <td>2018</td>\n",
       "      <td>1</td>\n",
       "      <td>22</td>\n",
       "      <td>0.0</td>\n",
       "      <td>{'neg': 0.0, 'neu': 1.0, 'pos': 0.0, 'compound...</td>\n",
       "      <td>0.00</td>\n",
       "      <td>Neutral</td>\n",
       "    </tr>\n",
       "  </tbody>\n",
       "</table>\n",
       "</div>"
      ],
      "text/plain": [
       "        date      time   user                     message  year  month  hour  \\\n",
       "0 2018-01-08  11:34:34   Pato    ‎Pato created this group  2018      1    11   \n",
       "1 2018-01-18  15:30:34  Oyaro                          👀👀  2018      1    15   \n",
       "2 2018-01-18  22:33:36   Pato  Sam1 has swallowed 8 goals  2018      1    22   \n",
       "3 2018-01-18  22:34:01  Oweka                     Oh my 😅  2018      1    22   \n",
       "4 2018-01-18  22:34:24  Danny                     Who dat  2018      1    22   \n",
       "\n",
       "   sentiment_score                                             Scores  \\\n",
       "0              0.0  {'neg': 0.0, 'neu': 0.6, 'pos': 0.4, 'compound...   \n",
       "1              0.0  {'neg': 0.0, 'neu': 1.0, 'pos': 0.0, 'compound...   \n",
       "2              0.0  {'neg': 0.0, 'neu': 1.0, 'pos': 0.0, 'compound...   \n",
       "3              0.0  {'neg': 0.0, 'neu': 1.0, 'pos': 0.0, 'compound...   \n",
       "4              0.0  {'neg': 0.0, 'neu': 1.0, 'pos': 0.0, 'compound...   \n",
       "\n",
       "   Compound Sentiment  \n",
       "0      0.25  Positive  \n",
       "1      0.00   Neutral  \n",
       "2      0.00   Neutral  \n",
       "3      0.00   Neutral  \n",
       "4      0.00   Neutral  "
      ]
     },
     "execution_count": 38,
     "metadata": {},
     "output_type": "execute_result"
    }
   ],
   "source": [
    "df['Sentiment'] = df['Compound'].apply(lambda score: 'Positive' if score > 0 else 'Neutral' if score == 0 else 'Negative')\n",
    "df.head()"
   ]
  },
  {
   "cell_type": "code",
   "execution_count": 39,
   "id": "c693eebb",
   "metadata": {},
   "outputs": [
    {
     "data": {
      "text/html": [
       "<div>\n",
       "<style scoped>\n",
       "    .dataframe tbody tr th:only-of-type {\n",
       "        vertical-align: middle;\n",
       "    }\n",
       "\n",
       "    .dataframe tbody tr th {\n",
       "        vertical-align: top;\n",
       "    }\n",
       "\n",
       "    .dataframe thead th {\n",
       "        text-align: right;\n",
       "    }\n",
       "</style>\n",
       "<table border=\"1\" class=\"dataframe\">\n",
       "  <thead>\n",
       "    <tr style=\"text-align: right;\">\n",
       "      <th></th>\n",
       "      <th>year</th>\n",
       "      <th>month</th>\n",
       "      <th>hour</th>\n",
       "      <th>sentiment_score</th>\n",
       "      <th>Compound</th>\n",
       "    </tr>\n",
       "    <tr>\n",
       "      <th>user</th>\n",
       "      <th></th>\n",
       "      <th></th>\n",
       "      <th></th>\n",
       "      <th></th>\n",
       "      <th></th>\n",
       "    </tr>\n",
       "  </thead>\n",
       "  <tbody>\n",
       "    <tr>\n",
       "      <th>Alpha</th>\n",
       "      <td>2020.064919</td>\n",
       "      <td>5.550403</td>\n",
       "      <td>13.918548</td>\n",
       "      <td>0.109274</td>\n",
       "      <td>0.019749</td>\n",
       "    </tr>\n",
       "    <tr>\n",
       "      <th>Bryo</th>\n",
       "      <td>2020.349317</td>\n",
       "      <td>6.316766</td>\n",
       "      <td>14.627091</td>\n",
       "      <td>0.147707</td>\n",
       "      <td>0.046349</td>\n",
       "    </tr>\n",
       "    <tr>\n",
       "      <th>Colloh</th>\n",
       "      <td>2018.500000</td>\n",
       "      <td>10.000000</td>\n",
       "      <td>15.000000</td>\n",
       "      <td>0.000000</td>\n",
       "      <td>0.000000</td>\n",
       "    </tr>\n",
       "    <tr>\n",
       "      <th>Danny</th>\n",
       "      <td>2020.751133</td>\n",
       "      <td>6.699980</td>\n",
       "      <td>14.272423</td>\n",
       "      <td>0.071161</td>\n",
       "      <td>0.019470</td>\n",
       "    </tr>\n",
       "    <tr>\n",
       "      <th>Franko</th>\n",
       "      <td>2021.698721</td>\n",
       "      <td>6.125115</td>\n",
       "      <td>14.611355</td>\n",
       "      <td>0.041739</td>\n",
       "      <td>0.012279</td>\n",
       "    </tr>\n",
       "    <tr>\n",
       "      <th>Giroud</th>\n",
       "      <td>2018.000000</td>\n",
       "      <td>1.294118</td>\n",
       "      <td>18.191176</td>\n",
       "      <td>0.102941</td>\n",
       "      <td>0.039844</td>\n",
       "    </tr>\n",
       "    <tr>\n",
       "      <th>Kaggwa</th>\n",
       "      <td>2019.423099</td>\n",
       "      <td>6.178122</td>\n",
       "      <td>14.768263</td>\n",
       "      <td>0.061221</td>\n",
       "      <td>0.025627</td>\n",
       "    </tr>\n",
       "    <tr>\n",
       "      <th>Kema</th>\n",
       "      <td>2018.000000</td>\n",
       "      <td>1.857143</td>\n",
       "      <td>14.571429</td>\n",
       "      <td>0.857143</td>\n",
       "      <td>0.147243</td>\n",
       "    </tr>\n",
       "    <tr>\n",
       "      <th>Ok</th>\n",
       "      <td>2018.000000</td>\n",
       "      <td>3.727626</td>\n",
       "      <td>13.828794</td>\n",
       "      <td>-0.225681</td>\n",
       "      <td>-0.012489</td>\n",
       "    </tr>\n",
       "    <tr>\n",
       "      <th>Oma</th>\n",
       "      <td>2018.000000</td>\n",
       "      <td>2.333333</td>\n",
       "      <td>13.454545</td>\n",
       "      <td>0.666667</td>\n",
       "      <td>0.129942</td>\n",
       "    </tr>\n",
       "    <tr>\n",
       "      <th>Oweka</th>\n",
       "      <td>2018.820433</td>\n",
       "      <td>5.551084</td>\n",
       "      <td>14.557276</td>\n",
       "      <td>0.325077</td>\n",
       "      <td>0.085253</td>\n",
       "    </tr>\n",
       "    <tr>\n",
       "      <th>Oyaro</th>\n",
       "      <td>2019.994898</td>\n",
       "      <td>5.678571</td>\n",
       "      <td>15.117347</td>\n",
       "      <td>0.267007</td>\n",
       "      <td>0.062297</td>\n",
       "    </tr>\n",
       "    <tr>\n",
       "      <th>Pato</th>\n",
       "      <td>2019.431280</td>\n",
       "      <td>6.665087</td>\n",
       "      <td>13.478673</td>\n",
       "      <td>0.004739</td>\n",
       "      <td>0.012914</td>\n",
       "    </tr>\n",
       "  </tbody>\n",
       "</table>\n",
       "</div>"
      ],
      "text/plain": [
       "               year      month       hour  sentiment_score  Compound\n",
       "user                                                                \n",
       "Alpha   2020.064919   5.550403  13.918548         0.109274  0.019749\n",
       "Bryo    2020.349317   6.316766  14.627091         0.147707  0.046349\n",
       "Colloh  2018.500000  10.000000  15.000000         0.000000  0.000000\n",
       "Danny   2020.751133   6.699980  14.272423         0.071161  0.019470\n",
       "Franko  2021.698721   6.125115  14.611355         0.041739  0.012279\n",
       "Giroud  2018.000000   1.294118  18.191176         0.102941  0.039844\n",
       "Kaggwa  2019.423099   6.178122  14.768263         0.061221  0.025627\n",
       "Kema    2018.000000   1.857143  14.571429         0.857143  0.147243\n",
       "Ok      2018.000000   3.727626  13.828794        -0.225681 -0.012489\n",
       "Oma     2018.000000   2.333333  13.454545         0.666667  0.129942\n",
       "Oweka   2018.820433   5.551084  14.557276         0.325077  0.085253\n",
       "Oyaro   2019.994898   5.678571  15.117347         0.267007  0.062297\n",
       "Pato    2019.431280   6.665087  13.478673         0.004739  0.012914"
      ]
     },
     "execution_count": 39,
     "metadata": {},
     "output_type": "execute_result"
    }
   ],
   "source": [
    "df.groupby('user').mean()"
   ]
  },
  {
   "cell_type": "code",
   "execution_count": null,
   "id": "0330466a",
   "metadata": {},
   "outputs": [],
   "source": []
  }
 ],
 "metadata": {
  "kernelspec": {
   "display_name": "Python 3 (ipykernel)",
   "language": "python",
   "name": "python3"
  },
  "language_info": {
   "codemirror_mode": {
    "name": "ipython",
    "version": 3
   },
   "file_extension": ".py",
   "mimetype": "text/x-python",
   "name": "python",
   "nbconvert_exporter": "python",
   "pygments_lexer": "ipython3",
   "version": "3.10.9"
  }
 },
 "nbformat": 4,
 "nbformat_minor": 5
}
