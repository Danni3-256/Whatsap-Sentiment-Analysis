{
 "cells": [
  {
   "cell_type": "code",
   "execution_count": 1,
   "id": "130d53af",
   "metadata": {},
   "outputs": [],
   "source": [
    "import pandas as pd\n",
    "import re\n",
    "import matplotlib.pyplot as plt\n",
    "import warnings \n",
    "warnings.filterwarnings('ignore')\n",
    "\n",
    "import numpy as np"
   ]
  },
  {
   "cell_type": "code",
   "execution_count": 2,
   "id": "66eee28e",
   "metadata": {},
   "outputs": [],
   "source": [
    "content = []\n",
    "with open('Hive.txt', encoding='utf-8') as file:\n",
    "    content = file.readlines()"
   ]
  },
  {
   "cell_type": "code",
   "execution_count": 3,
   "id": "a2425804",
   "metadata": {},
   "outputs": [
    {
     "name": "stdout",
     "output_type": "stream",
     "text": [
      "0. : [08/01/2018, 11:34:34] Gamerz Hive 💫 🎮: ‎Messages and calls are end-to-end encrypted. No one outside of this chat, not even WhatsApp, can read or listen to them.\n",
      "\n",
      "1. : [08/01/2018, 11:34:34] Pato: ‎Pato created this group\n",
      "\n",
      "2. : [08/01/2018, 11:34:34] Gamerz Hive 💫 🎮: ‎You were added\n",
      "\n",
      "3. : [18/01/2018, 15:30:34] Oyaro: 👀👀\n",
      "\n",
      "4. : [18/01/2018, 22:33:36] Pato: Sam1 has swallowed 8 goals\n",
      "\n",
      "5. : [18/01/2018, 22:34:01] Oweka: Oh my 😅\n",
      "\n",
      "6. : [18/01/2018, 22:34:24] Danny: Who dat\n",
      "\n",
      "7. : [18/01/2018, 22:34:34] Danny: Pin that nigga\n",
      "\n",
      "8. : [18/01/2018, 22:35:17] Pato: Sam guy called Robin\n",
      "\n",
      "9. : [18/01/2018, 22:35:42] Pato: I cudnt take a pic nigga pressed advanced asap\n",
      "\n",
      "10. : [18/01/2018, 22:35:53] Danny: Hehe ..\n",
      "\n",
      "11. : [18/01/2018, 22:36:19] Danny: Who washed him\n",
      "\n",
      "12. : [18/01/2018, 22:36:39] Pato: @256784083434\n",
      "\n",
      "13. : [18/01/2018, 22:36:41] Oweka: How why when. Did he score\n",
      "\n",
      "14. : [18/01/2018, 22:37:17] Pato: Hahahahaha. Ur lucky u never played @256784083434\n",
      "\n",
      "15. : ‎[18/01/2018, 22:58:42] Kema:  ‎audio omitted\n",
      "\n",
      "16. : [18/01/2018, 22:59:04] Kema: Graduation offering\n",
      "\n",
      "17. : [18/01/2018, 22:59:33] Danny: @256757803385 \n",
      "\n",
      "18. : Are u sober\n",
      "\n",
      "19. : [18/01/2018, 22:59:47] Kema: Ya y\n",
      "\n"
     ]
    }
   ],
   "source": [
    "for index, value in enumerate(content[:20]):\n",
    "    print(f'{index}. : {value}')"
   ]
  },
  {
   "cell_type": "code",
   "execution_count": 4,
   "id": "efa11616",
   "metadata": {},
   "outputs": [
    {
     "name": "stdout",
     "output_type": "stream",
     "text": [
      "         Date      Time             User  \\\n",
      "0  08/01/2018  11:34:34  Gamerz Hive 💫 🎮   \n",
      "1  08/01/2018  11:34:34             Pato   \n",
      "2  08/01/2018  11:34:34  Gamerz Hive 💫 🎮   \n",
      "3  18/01/2018  15:30:34            Oyaro   \n",
      "4  18/01/2018  22:33:36             Pato   \n",
      "\n",
      "                                             Message  \n",
      "0  ‎Messages and calls are end-to-end encrypted. ...  \n",
      "1                           ‎Pato created this group  \n",
      "2                                    ‎You were added  \n",
      "3                                                 👀👀  \n",
      "4                         Sam1 has swallowed 8 goals  \n"
     ]
    }
   ],
   "source": [
    "import pandas as pd\n",
    "import re\n",
    "\n",
    "def extract_message_info(line):\n",
    "    # Define the regular expression pattern to match the line\n",
    "    pattern = r'\\[(\\d{2}\\/\\d{2}\\/\\d{4}),\\s(\\d{2}:\\d{2}:\\d{2})\\]\\s(.+?):\\s(.*)'\n",
    "    \n",
    "    # Use re.match to find the match object in the line\n",
    "    match = re.match(pattern, line)\n",
    "    \n",
    "    if match:\n",
    "        # Extract the date, time, user, and message from the match object\n",
    "        date = match.group(1)\n",
    "        time = match.group(2)\n",
    "        user = match.group(3)\n",
    "        message = match.group(4)\n",
    "        \n",
    "        # Return the extracted information as a dictionary\n",
    "        return {'Date': date, 'Time': time, 'User': user, 'Message': message}\n",
    "    else:\n",
    "        return None\n",
    "\n",
    "# Read the content of the file into a list of strings\n",
    "with open('Hive.txt', encoding='utf-8') as file:\n",
    "    content = file.readlines()\n",
    "\n",
    "# Extract the message information from each line and store it in a list of dictionaries\n",
    "message_info = []\n",
    "for line in content:\n",
    "    info = extract_message_info(line)\n",
    "    if info:\n",
    "        message_info.append(info)\n",
    "\n",
    "# Create a DataFrame from the list of dictionaries\n",
    "df = pd.DataFrame(message_info)\n",
    "\n",
    "# Print the first few rows of the DataFrame\n",
    "print(df.head())\n"
   ]
  },
  {
   "cell_type": "code",
   "execution_count": 7,
   "id": "a5b89f07",
   "metadata": {},
   "outputs": [
    {
     "data": {
      "text/html": [
       "<div>\n",
       "<style scoped>\n",
       "    .dataframe tbody tr th:only-of-type {\n",
       "        vertical-align: middle;\n",
       "    }\n",
       "\n",
       "    .dataframe tbody tr th {\n",
       "        vertical-align: top;\n",
       "    }\n",
       "\n",
       "    .dataframe thead th {\n",
       "        text-align: right;\n",
       "    }\n",
       "</style>\n",
       "<table border=\"1\" class=\"dataframe\">\n",
       "  <thead>\n",
       "    <tr style=\"text-align: right;\">\n",
       "      <th></th>\n",
       "      <th>Date</th>\n",
       "      <th>Time</th>\n",
       "      <th>User</th>\n",
       "      <th>Message</th>\n",
       "    </tr>\n",
       "  </thead>\n",
       "  <tbody>\n",
       "    <tr>\n",
       "      <th>0</th>\n",
       "      <td>08/01/2018</td>\n",
       "      <td>11:34:34</td>\n",
       "      <td>Gamerz Hive 💫 🎮</td>\n",
       "      <td>‎Messages and calls are end-to-end encrypted. ...</td>\n",
       "    </tr>\n",
       "    <tr>\n",
       "      <th>1</th>\n",
       "      <td>08/01/2018</td>\n",
       "      <td>11:34:34</td>\n",
       "      <td>Pato</td>\n",
       "      <td>‎Pato created this group</td>\n",
       "    </tr>\n",
       "    <tr>\n",
       "      <th>2</th>\n",
       "      <td>08/01/2018</td>\n",
       "      <td>11:34:34</td>\n",
       "      <td>Gamerz Hive 💫 🎮</td>\n",
       "      <td>‎You were added</td>\n",
       "    </tr>\n",
       "    <tr>\n",
       "      <th>3</th>\n",
       "      <td>18/01/2018</td>\n",
       "      <td>15:30:34</td>\n",
       "      <td>Oyaro</td>\n",
       "      <td>👀👀</td>\n",
       "    </tr>\n",
       "    <tr>\n",
       "      <th>4</th>\n",
       "      <td>18/01/2018</td>\n",
       "      <td>22:33:36</td>\n",
       "      <td>Pato</td>\n",
       "      <td>Sam1 has swallowed 8 goals</td>\n",
       "    </tr>\n",
       "    <tr>\n",
       "      <th>...</th>\n",
       "      <td>...</td>\n",
       "      <td>...</td>\n",
       "      <td>...</td>\n",
       "      <td>...</td>\n",
       "    </tr>\n",
       "    <tr>\n",
       "      <th>112232</th>\n",
       "      <td>02/03/2023</td>\n",
       "      <td>14:10:21</td>\n",
       "      <td>Kaggwa</td>\n",
       "      <td>Madrid mhhh</td>\n",
       "    </tr>\n",
       "    <tr>\n",
       "      <th>112233</th>\n",
       "      <td>02/03/2023</td>\n",
       "      <td>14:11:01</td>\n",
       "      <td>‪+256 705 743093‬</td>\n",
       "      <td>I have said I have said.</td>\n",
       "    </tr>\n",
       "    <tr>\n",
       "      <th>112234</th>\n",
       "      <td>02/03/2023</td>\n",
       "      <td>14:18:00</td>\n",
       "      <td>Franko</td>\n",
       "      <td>Barca will have no lewandoski, pedri, and some...</td>\n",
       "    </tr>\n",
       "    <tr>\n",
       "      <th>112235</th>\n",
       "      <td>02/03/2023</td>\n",
       "      <td>14:18:39</td>\n",
       "      <td>‪+256 756 494665‬</td>\n",
       "      <td>U meant madrid</td>\n",
       "    </tr>\n",
       "    <tr>\n",
       "      <th>112236</th>\n",
       "      <td>02/03/2023</td>\n",
       "      <td>14:21:25</td>\n",
       "      <td>‪+256 703 978390‬</td>\n",
       "      <td>Should be a walk over!</td>\n",
       "    </tr>\n",
       "  </tbody>\n",
       "</table>\n",
       "<p>112237 rows × 4 columns</p>\n",
       "</div>"
      ],
      "text/plain": [
       "              Date      Time               User  \\\n",
       "0       08/01/2018  11:34:34    Gamerz Hive 💫 🎮   \n",
       "1       08/01/2018  11:34:34               Pato   \n",
       "2       08/01/2018  11:34:34    Gamerz Hive 💫 🎮   \n",
       "3       18/01/2018  15:30:34              Oyaro   \n",
       "4       18/01/2018  22:33:36               Pato   \n",
       "...            ...       ...                ...   \n",
       "112232  02/03/2023  14:10:21             Kaggwa   \n",
       "112233  02/03/2023  14:11:01  ‪+256 705 743093‬   \n",
       "112234  02/03/2023  14:18:00             Franko   \n",
       "112235  02/03/2023  14:18:39  ‪+256 756 494665‬   \n",
       "112236  02/03/2023  14:21:25  ‪+256 703 978390‬   \n",
       "\n",
       "                                                  Message  \n",
       "0       ‎Messages and calls are end-to-end encrypted. ...  \n",
       "1                                ‎Pato created this group  \n",
       "2                                         ‎You were added  \n",
       "3                                                      👀👀  \n",
       "4                              Sam1 has swallowed 8 goals  \n",
       "...                                                   ...  \n",
       "112232                                        Madrid mhhh  \n",
       "112233                           I have said I have said.  \n",
       "112234  Barca will have no lewandoski, pedri, and some...  \n",
       "112235                                     U meant madrid  \n",
       "112236                             Should be a walk over!  \n",
       "\n",
       "[112237 rows x 4 columns]"
      ]
     },
     "execution_count": 7,
     "metadata": {},
     "output_type": "execute_result"
    }
   ],
   "source": [
    "df"
   ]
  },
  {
   "cell_type": "code",
   "execution_count": 5,
   "id": "7c105347",
   "metadata": {},
   "outputs": [],
   "source": [
    "# datetimes = []\n",
    "# users = []\n",
    "# messages = []"
   ]
  },
  {
   "cell_type": "code",
   "execution_count": 6,
   "id": "c9e4a97b",
   "metadata": {},
   "outputs": [],
   "source": [
    "# def extract_info(row):\n",
    "#     row = row.strip()\n",
    "#     if len(row) >= 22:\n",
    "#         # check that the line fullfils all these conditions:\n",
    "#         # 1. Starts with [ and ends with ]\n",
    "#         # 2. The content inside brackets should be a date and time\n",
    "#         # so the first and last character should be a number\n",
    "#         if all([row[0] == '[', row[21] == ']', row[1].isnumeric(), row[20].isnumeric()]):\n",
    "#             # datetime info extraction\n",
    "#             # position 0 equals [ char\n",
    "#             # posiion 21 equals ] char\n",
    "#             datetime = row[1:21]\n",
    "#             # user info extraction\n",
    "#             row_without_datetime = row[22:]\n",
    "#             colon_pos = row_without_datetime.find(':')\n",
    "#             user = row[23: 22 + colon_pos]\n",
    "#             # message info extraction\n",
    "#             message = row[23 + colon_pos:].strip()\n",
    "#             message = message.replace('\\u200e', '')\n",
    "#             datetimes.append(datetime)\n",
    "#             users.append(user)\n",
    "#             messages.append(message)\n",
    "#         else:\n",
    "#             return np.nan"
   ]
  },
  {
   "cell_type": "code",
   "execution_count": 11,
   "id": "480c6770",
   "metadata": {},
   "outputs": [
    {
     "data": {
      "text/plain": [
       "(112237, 4)"
      ]
     },
     "execution_count": 11,
     "metadata": {},
     "output_type": "execute_result"
    }
   ],
   "source": [
    "df.shape"
   ]
  },
  {
   "cell_type": "code",
   "execution_count": 13,
   "id": "c767fb8a",
   "metadata": {},
   "outputs": [
    {
     "data": {
      "text/plain": [
       "0           Gamerz Hive 💫 🎮\n",
       "1                      Pato\n",
       "2           Gamerz Hive 💫 🎮\n",
       "3                     Oyaro\n",
       "4                      Pato\n",
       "                ...        \n",
       "112232               Kaggwa\n",
       "112233    ‪+256 705 743093‬\n",
       "112234               Franko\n",
       "112235    ‪+256 756 494665‬\n",
       "112236    ‪+256 703 978390‬\n",
       "Name: User, Length: 112237, dtype: object"
      ]
     },
     "execution_count": 13,
     "metadata": {},
     "output_type": "execute_result"
    }
   ],
   "source": [
    "df['User']"
   ]
  },
  {
   "cell_type": "code",
   "execution_count": null,
   "id": "ee54dfcc",
   "metadata": {},
   "outputs": [],
   "source": []
  }
 ],
 "metadata": {
  "kernelspec": {
   "display_name": "Python 3 (ipykernel)",
   "language": "python",
   "name": "python3"
  },
  "language_info": {
   "codemirror_mode": {
    "name": "ipython",
    "version": 3
   },
   "file_extension": ".py",
   "mimetype": "text/x-python",
   "name": "python",
   "nbconvert_exporter": "python",
   "pygments_lexer": "ipython3",
   "version": "3.10.9"
  }
 },
 "nbformat": 4,
 "nbformat_minor": 5
}
